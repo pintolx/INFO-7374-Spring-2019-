{
  "nbformat": 4,
  "nbformat_minor": 0,
  "metadata": {
    "colab": {
      "name": "Assignment Part 1.ipynb",
      "version": "0.3.2",
      "provenance": []
    },
    "kernelspec": {
      "name": "python3",
      "display_name": "Python 3"
    }
  },
  "cells": [
    {
      "metadata": {
        "id": "oeBrF0eJRN--",
        "colab_type": "code",
        "colab": {}
      },
      "cell_type": "code",
      "source": [
        "from __future__ import print_function\n",
        "\n",
        "import keras\n",
        "\n",
        "from keras.models import Sequential\n",
        "\n",
        "from keras.layers import Dense, Dropout\n",
        "\n",
        "from keras.optimizers import RMSprop\n",
        "from keras.datasets import cifar10 \n",
        "from keras.models import Sequential \n",
        "import matplotlib.pyplot as plt"
      ],
      "execution_count": 0,
      "outputs": []
    },
    {
      "metadata": {
        "id": "URxZQE48RU8A",
        "colab_type": "code",
        "colab": {}
      },
      "cell_type": "code",
      "source": [
        ""
      ],
      "execution_count": 0,
      "outputs": []
    },
    {
      "metadata": {
        "id": "gOiCmW9kRVwH",
        "colab_type": "code",
        "colab": {}
      },
      "cell_type": "code",
      "source": [
        "batch_size = 512\n",
        "\n",
        "num_classes = 10\n",
        "\n",
        "epochs = 100"
      ],
      "execution_count": 0,
      "outputs": []
    },
    {
      "metadata": {
        "id": "gXSP8h5pRbFo",
        "colab_type": "code",
        "colab": {}
      },
      "cell_type": "code",
      "source": [
        "# the data, split between train and test sets\n",
        "\n",
        "(x_train, y_train), (x_test, y_test) = cifar10.load_data() \n"
      ],
      "execution_count": 0,
      "outputs": []
    },
    {
      "metadata": {
        "id": "XCzqj707Seql",
        "colab_type": "code",
        "colab": {
          "base_uri": "https://localhost:8080/",
          "height": 119
        },
        "outputId": "f0fc164d-5dda-4fb3-cc36-6102c25a96bd"
      },
      "cell_type": "code",
      "source": [
        "print(\"Shape of training data:\")\n",
        "print(x_train.shape)\n",
        "print(y_train.shape)\n",
        "print(\"Shape of test data:\")\n",
        "print(x_test.shape)\n",
        "print(y_test.shape)"
      ],
      "execution_count": 28,
      "outputs": [
        {
          "output_type": "stream",
          "text": [
            "Shape of training data:\n",
            "(50000, 32, 32, 3)\n",
            "(50000, 1)\n",
            "Shape of test data:\n",
            "(10000, 32, 32, 3)\n",
            "(10000, 1)\n"
          ],
          "name": "stdout"
        }
      ]
    },
    {
      "metadata": {
        "id": "ROZhPLuLRelw",
        "colab_type": "code",
        "colab": {
          "base_uri": "https://localhost:8080/",
          "height": 51
        },
        "outputId": "30dc84a9-abd7-4c52-9a46-2b25a0d59110"
      },
      "cell_type": "code",
      "source": [
        "x_train = x_train.reshape(50000, 3072)\n",
        "\n",
        "x_test = x_test.reshape(10000, 3072)\n",
        "\n",
        "x_train = x_train.astype('float32')\n",
        "\n",
        "x_test = x_test.astype('float32')\n",
        "\n",
        "x_train /= 255\n",
        "\n",
        "x_test /= 255\n",
        "\n",
        "print(x_train.shape[0], 'train samples')\n",
        "\n",
        "print(x_test.shape[0], 'test samples')"
      ],
      "execution_count": 29,
      "outputs": [
        {
          "output_type": "stream",
          "text": [
            "50000 train samples\n",
            "10000 test samples\n"
          ],
          "name": "stdout"
        }
      ]
    },
    {
      "metadata": {
        "id": "rFqaABPLRkiW",
        "colab_type": "code",
        "colab": {}
      },
      "cell_type": "code",
      "source": [
        "# convert class vectors to binary class matrices\n",
        "\n",
        "y_train = keras.utils.to_categorical(y_train, num_classes)\n",
        "\n",
        "y_test = keras.utils.to_categorical(y_test, num_classes)\n"
      ],
      "execution_count": 0,
      "outputs": []
    },
    {
      "metadata": {
        "id": "4Bm5hCdlRnhe",
        "colab_type": "code",
        "colab": {}
      },
      "cell_type": "code",
      "source": [
        "model = Sequential()\n",
        "\n",
        "model.add(Dense(512, activation='relu', input_shape=(3072,)))\n",
        "\n",
        "model.add(Dropout(0.2))\n",
        "\n",
        "model.add(Dense(512, activation='relu'))\n",
        "\n",
        "model.add(Dropout(0.2))\n",
        "\n",
        "model.add(Dense(num_classes, activation='softmax'))"
      ],
      "execution_count": 0,
      "outputs": []
    },
    {
      "metadata": {
        "id": "h1yrb5pyRqYq",
        "colab_type": "code",
        "colab": {
          "base_uri": "https://localhost:8080/",
          "height": 306
        },
        "outputId": "1dd275b4-2e70-4e8d-aadf-53fa1506d40e"
      },
      "cell_type": "code",
      "source": [
        "\n",
        "model.summary()\n",
        "\n",
        "model.compile(loss='categorical_crossentropy',optimizer=RMSprop(), metrics=['accuracy'])"
      ],
      "execution_count": 32,
      "outputs": [
        {
          "output_type": "stream",
          "text": [
            "_________________________________________________________________\n",
            "Layer (type)                 Output Shape              Param #   \n",
            "=================================================================\n",
            "dense_7 (Dense)              (None, 512)               1573376   \n",
            "_________________________________________________________________\n",
            "dropout_5 (Dropout)          (None, 512)               0         \n",
            "_________________________________________________________________\n",
            "dense_8 (Dense)              (None, 512)               262656    \n",
            "_________________________________________________________________\n",
            "dropout_6 (Dropout)          (None, 512)               0         \n",
            "_________________________________________________________________\n",
            "dense_9 (Dense)              (None, 10)                5130      \n",
            "=================================================================\n",
            "Total params: 1,841,162\n",
            "Trainable params: 1,841,162\n",
            "Non-trainable params: 0\n",
            "_________________________________________________________________\n"
          ],
          "name": "stdout"
        }
      ]
    },
    {
      "metadata": {
        "id": "AM2CIrBPRxb0",
        "colab_type": "code",
        "colab": {
          "base_uri": "https://localhost:8080/",
          "height": 1258
        },
        "outputId": "f323dfde-a8e9-4ef0-80ad-d152517ea318"
      },
      "cell_type": "code",
      "source": [
        "history = model.fit(x_train, y_train, batch_size=batch_size, epochs=epochs,verbose=1, validation_data=(x_test, y_test))\n",
        "\n",
        "score = model.evaluate(x_test, y_test, verbose=0)\n",
        "\n",
        "print('Test loss:', score[0])\n",
        "\n",
        "print('Test accuracy:', score[1])"
      ],
      "execution_count": 0,
      "outputs": [
        {
          "output_type": "stream",
          "text": [
            "Train on 50000 samples, validate on 10000 samples\n",
            "Epoch 1/100\n",
            "50000/50000 [==============================] - 11s 217us/step - loss: 2.9751 - acc: 0.1905 - val_loss: 2.0879 - val_acc: 0.2215\n",
            "Epoch 2/100\n",
            "50000/50000 [==============================] - 11s 210us/step - loss: 2.0146 - acc: 0.2659 - val_loss: 1.9034 - val_acc: 0.3269\n",
            "Epoch 3/100\n",
            "50000/50000 [==============================] - 11s 210us/step - loss: 1.9162 - acc: 0.3076 - val_loss: 1.8001 - val_acc: 0.3520\n",
            "Epoch 4/100\n",
            "50000/50000 [==============================] - 10s 209us/step - loss: 1.8657 - acc: 0.3320 - val_loss: 1.9952 - val_acc: 0.2860\n",
            "Epoch 5/100\n",
            "50000/50000 [==============================] - 11s 212us/step - loss: 1.8123 - acc: 0.3496 - val_loss: 1.7221 - val_acc: 0.3899\n",
            "Epoch 6/100\n",
            "50000/50000 [==============================] - 10s 210us/step - loss: 1.7736 - acc: 0.3664 - val_loss: 1.6570 - val_acc: 0.4190\n",
            "Epoch 7/100\n",
            "50000/50000 [==============================] - 10s 210us/step - loss: 1.7479 - acc: 0.3745 - val_loss: 1.7047 - val_acc: 0.3935\n",
            "Epoch 8/100\n",
            "50000/50000 [==============================] - 10s 209us/step - loss: 1.7084 - acc: 0.3895 - val_loss: 1.7223 - val_acc: 0.3783\n",
            "Epoch 9/100\n",
            "50000/50000 [==============================] - 10s 210us/step - loss: 1.6939 - acc: 0.3933 - val_loss: 1.6322 - val_acc: 0.4162\n",
            "Epoch 10/100\n",
            "50000/50000 [==============================] - 10s 210us/step - loss: 1.6647 - acc: 0.4038 - val_loss: 1.6313 - val_acc: 0.4260\n",
            "Epoch 11/100\n",
            "50000/50000 [==============================] - 10s 209us/step - loss: 1.6492 - acc: 0.4114 - val_loss: 1.5870 - val_acc: 0.4338\n",
            "Epoch 12/100\n",
            "50000/50000 [==============================] - 11s 210us/step - loss: 1.6234 - acc: 0.4204 - val_loss: 1.6071 - val_acc: 0.4334\n",
            "Epoch 13/100\n",
            "50000/50000 [==============================] - 10s 209us/step - loss: 1.6058 - acc: 0.4251 - val_loss: 1.6113 - val_acc: 0.4127\n",
            "Epoch 14/100\n",
            "50000/50000 [==============================] - 10s 209us/step - loss: 1.5901 - acc: 0.4309 - val_loss: 1.6602 - val_acc: 0.4088\n",
            "Epoch 15/100\n",
            "50000/50000 [==============================] - 11s 218us/step - loss: 1.5748 - acc: 0.4411 - val_loss: 1.5287 - val_acc: 0.4620\n",
            "Epoch 16/100\n",
            "50000/50000 [==============================] - 11s 211us/step - loss: 1.5694 - acc: 0.4404 - val_loss: 1.5270 - val_acc: 0.4650\n",
            "Epoch 17/100\n",
            "50000/50000 [==============================] - 11s 212us/step - loss: 1.5506 - acc: 0.4483 - val_loss: 1.5072 - val_acc: 0.4651\n",
            "Epoch 18/100\n",
            "50000/50000 [==============================] - 11s 212us/step - loss: 1.5277 - acc: 0.4556 - val_loss: 1.4942 - val_acc: 0.4713\n",
            "Epoch 19/100\n",
            "50000/50000 [==============================] - 11s 212us/step - loss: 1.5238 - acc: 0.4545 - val_loss: 1.5249 - val_acc: 0.4549\n",
            "Epoch 20/100\n",
            "50000/50000 [==============================] - 11s 212us/step - loss: 1.5054 - acc: 0.4617 - val_loss: 1.4894 - val_acc: 0.4724\n",
            "Epoch 21/100\n",
            "50000/50000 [==============================] - 11s 211us/step - loss: 1.4996 - acc: 0.4652 - val_loss: 1.6303 - val_acc: 0.4245\n",
            "Epoch 22/100\n",
            "50000/50000 [==============================] - 10s 210us/step - loss: 1.4838 - acc: 0.4732 - val_loss: 1.5180 - val_acc: 0.4540\n",
            "Epoch 23/100\n",
            "50000/50000 [==============================] - 11s 211us/step - loss: 1.4805 - acc: 0.4723 - val_loss: 1.4926 - val_acc: 0.4733\n",
            "Epoch 24/100\n",
            "50000/50000 [==============================] - 11s 211us/step - loss: 1.4637 - acc: 0.4790 - val_loss: 1.5036 - val_acc: 0.4715\n",
            "Epoch 25/100\n",
            "50000/50000 [==============================] - 11s 210us/step - loss: 1.4576 - acc: 0.4802 - val_loss: 1.4424 - val_acc: 0.4963\n",
            "Epoch 26/100\n",
            "50000/50000 [==============================] - 11s 210us/step - loss: 1.4458 - acc: 0.4857 - val_loss: 1.4474 - val_acc: 0.4849\n",
            "Epoch 27/100\n",
            "50000/50000 [==============================] - 11s 213us/step - loss: 1.4415 - acc: 0.4861 - val_loss: 1.4796 - val_acc: 0.4760\n",
            "Epoch 28/100\n",
            "50000/50000 [==============================] - 11s 214us/step - loss: 1.4316 - acc: 0.4893 - val_loss: 1.4956 - val_acc: 0.4733\n",
            "Epoch 29/100\n",
            "50000/50000 [==============================] - 11s 212us/step - loss: 1.4211 - acc: 0.4925 - val_loss: 1.4832 - val_acc: 0.4654\n",
            "Epoch 30/100\n",
            "50000/50000 [==============================] - 11s 214us/step - loss: 1.4071 - acc: 0.4986 - val_loss: 1.4723 - val_acc: 0.4754\n",
            "Epoch 31/100\n",
            "50000/50000 [==============================] - 11s 212us/step - loss: 1.4036 - acc: 0.4996 - val_loss: 1.4753 - val_acc: 0.4816\n",
            "Epoch 32/100\n",
            "50000/50000 [==============================] - 11s 213us/step - loss: 1.3992 - acc: 0.5012 - val_loss: 1.4659 - val_acc: 0.4816\n",
            "Epoch 33/100\n",
            "50000/50000 [==============================] - 11s 212us/step - loss: 1.3936 - acc: 0.5047 - val_loss: 1.5202 - val_acc: 0.4641\n",
            "Epoch 34/100\n",
            "50000/50000 [==============================] - 11s 215us/step - loss: 1.3863 - acc: 0.5049 - val_loss: 1.3729 - val_acc: 0.5203\n",
            "Epoch 35/100\n",
            "50000/50000 [==============================] - 11s 212us/step - loss: 1.3855 - acc: 0.5044 - val_loss: 1.4021 - val_acc: 0.5070\n",
            "Epoch 36/100\n",
            "49664/50000 [============================>.] - ETA: 0s - loss: 1.3723 - acc: 0.5113"
          ],
          "name": "stdout"
        }
      ]
    },
    {
      "metadata": {
        "id": "VB9JNuJIR7N1",
        "colab_type": "code",
        "colab": {}
      },
      "cell_type": "code",
      "source": [
        "plt.plot(history.history['acc'])\n",
        "plt.plot(history.history['val_acc'])\n",
        "plt.title('model accuracy')\n",
        "plt.ylabel('accuracy')\n",
        "plt.xlabel('epoch')\n",
        "plt.legend(['train', 'test'], loc='upper left')\n",
        "plt.show()\n",
        "# summarize history for loss\n",
        "plt.plot(history.history['loss'])\n",
        "plt.plot(history.history['val_loss'])\n",
        "plt.title('model loss')\n",
        "plt.ylabel('loss')\n",
        "plt.xlabel('epoch')\n",
        "plt.legend(['train', 'test'], loc='upper left')\n",
        "plt.show()"
      ],
      "execution_count": 0,
      "outputs": []
    },
    {
      "metadata": {
        "id": "ngbm-CXZUHVn",
        "colab_type": "code",
        "colab": {}
      },
      "cell_type": "code",
      "source": [
        ""
      ],
      "execution_count": 0,
      "outputs": []
    }
  ]
}