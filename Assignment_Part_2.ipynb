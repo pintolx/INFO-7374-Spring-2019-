{
  "nbformat": 4,
  "nbformat_minor": 0,
  "metadata": {
    "colab": {
      "name": "Assignment Part 2.ipynb",
      "version": "0.3.2",
      "provenance": []
    },
    "kernelspec": {
      "name": "python3",
      "display_name": "Python 3"
    },
    "accelerator": "GPU"
  },
  "cells": [
    {
      "metadata": {
        "id": "ldkVAkgbbEip",
        "colab_type": "code",
        "colab": {}
      },
      "cell_type": "code",
      "source": [
        "# Large CNN model for the CIFAR-10 Dataset \n",
        "import numpy \n",
        "from keras.datasets import cifar10 \n",
        "from keras.models import Sequential \n",
        "from keras.layers import Dense \n",
        "from keras.layers import Dropout \n",
        "from keras.layers import Flatten \n",
        "from keras.constraints import maxnorm \n",
        "from keras.optimizers import SGD \n",
        "from keras.layers.convolutional import Conv2D \n",
        "from keras.layers.convolutional import MaxPooling2D \n",
        "from keras.utils import np_utils \n",
        "from keras import backend as K \n",
        "K.set_image_dim_ordering('th') \n",
        "import matplotlib.pyplot as plt"
      ],
      "execution_count": 0,
      "outputs": []
    },
    {
      "metadata": {
        "id": "6_WF18irbY9p",
        "colab_type": "code",
        "colab": {}
      },
      "cell_type": "code",
      "source": [
        "# fix random seed for reproducibility \n",
        "seed = 7 \n",
        "numpy.random.seed(seed) "
      ],
      "execution_count": 0,
      "outputs": []
    },
    {
      "metadata": {
        "id": "dhQlpSPzbmX1",
        "colab_type": "code",
        "colab": {}
      },
      "cell_type": "code",
      "source": [
        "# load data \n",
        "(X_train, y_train), (X_test, y_test) = cifar10.load_data() \n",
        "# normalize inputs from 0-255 to 0.0-1.0 \n",
        "X_train = X_train.astype('float32') \n",
        "X_test = X_test.astype('float32') \n",
        "X_train = X_train / 255.0 \n",
        "X_test = X_test / 255.0"
      ],
      "execution_count": 0,
      "outputs": []
    },
    {
      "metadata": {
        "id": "yv5tzRNBbw8j",
        "colab_type": "code",
        "colab": {}
      },
      "cell_type": "code",
      "source": [
        "# one hot encode outputs \n",
        "y_train = np_utils.to_categorical(y_train) \n",
        "y_test = np_utils.to_categorical(y_test) \n",
        "num_classes = y_test.shape[1] "
      ],
      "execution_count": 0,
      "outputs": []
    },
    {
      "metadata": {
        "id": "n9wo0XPAb5nH",
        "colab_type": "code",
        "colab": {}
      },
      "cell_type": "code",
      "source": [
        "# Create the model \n",
        "model = Sequential() \n",
        "model.add(Conv2D(32, (3, 3), input_shape=(3, 32, 32), activation='sigmoid', padding='same')) \n",
        "model.add(Dropout(0.2)) \n",
        "model.add(Conv2D(32, (3, 3), activation='sigmoid', padding='same')) \n",
        "model.add(MaxPooling2D(pool_size=(2, 2))) \n",
        "model.add(Conv2D(64, (3, 3), activation='sigmoid', padding='same')) \n",
        "model.add(Dropout(0.2)) \n",
        "model.add(Conv2D(64, (3, 3), activation='sigmoid', padding='same')) \n",
        "model.add(MaxPooling2D(pool_size=(2, 2))) \n",
        "model.add(Conv2D(128, (3, 3), activation='sigmoid', padding='same')) \n",
        "model.add(Dropout(0.2)) \n",
        "model.add(Conv2D(128, (3, 3), activation='sigmoid', padding='same')) \n",
        "model.add(MaxPooling2D(pool_size=(2, 2))) \n",
        "model.add(Flatten()) \n",
        "model.add(Dropout(0.2)) \n",
        "model.add(Dense(1024, activation='sigmoid', kernel_constraint=maxnorm(3))) \n",
        "model.add(Dropout(0.2)) \n",
        "model.add(Dense(512, activation='sigmoid', kernel_constraint=maxnorm(3))) \n",
        "model.add(Dropout(0.2)) \n",
        "model.add(Dense(num_classes, activation='softmax')) "
      ],
      "execution_count": 0,
      "outputs": []
    },
    {
      "metadata": {
        "id": "qCjVbV4Echo4",
        "colab_type": "code",
        "colab": {}
      },
      "cell_type": "code",
      "source": [
        "# Compile model e\n",
        "epochs = 25 \n",
        "lrate = 0.01"
      ],
      "execution_count": 0,
      "outputs": []
    },
    {
      "metadata": {
        "id": "MHrXIdzocxAb",
        "colab_type": "code",
        "outputId": "d5f4d68e-11c8-4881-dd62-07986335c088",
        "colab": {
          "base_uri": "https://localhost:8080/",
          "height": 799
        }
      },
      "cell_type": "code",
      "source": [
        "decay = lrate/epochs \n",
        "sgd = SGD(lr=lrate, momentum=0.9, decay=decay, nesterov=False)\n",
        "model.compile(loss='categorical_crossentropy', optimizer=sgd, metrics=['accuracy']) \n",
        "print(model.summary()) \n"
      ],
      "execution_count": 7,
      "outputs": [
        {
          "output_type": "stream",
          "text": [
            "_________________________________________________________________\n",
            "Layer (type)                 Output Shape              Param #   \n",
            "=================================================================\n",
            "conv2d_1 (Conv2D)            (None, 32, 32, 32)        896       \n",
            "_________________________________________________________________\n",
            "dropout_1 (Dropout)          (None, 32, 32, 32)        0         \n",
            "_________________________________________________________________\n",
            "conv2d_2 (Conv2D)            (None, 32, 32, 32)        9248      \n",
            "_________________________________________________________________\n",
            "max_pooling2d_1 (MaxPooling2 (None, 32, 16, 16)        0         \n",
            "_________________________________________________________________\n",
            "conv2d_3 (Conv2D)            (None, 64, 16, 16)        18496     \n",
            "_________________________________________________________________\n",
            "dropout_2 (Dropout)          (None, 64, 16, 16)        0         \n",
            "_________________________________________________________________\n",
            "conv2d_4 (Conv2D)            (None, 64, 16, 16)        36928     \n",
            "_________________________________________________________________\n",
            "max_pooling2d_2 (MaxPooling2 (None, 64, 8, 8)          0         \n",
            "_________________________________________________________________\n",
            "conv2d_5 (Conv2D)            (None, 128, 8, 8)         73856     \n",
            "_________________________________________________________________\n",
            "dropout_3 (Dropout)          (None, 128, 8, 8)         0         \n",
            "_________________________________________________________________\n",
            "conv2d_6 (Conv2D)            (None, 128, 8, 8)         147584    \n",
            "_________________________________________________________________\n",
            "max_pooling2d_3 (MaxPooling2 (None, 128, 4, 4)         0         \n",
            "_________________________________________________________________\n",
            "flatten_1 (Flatten)          (None, 2048)              0         \n",
            "_________________________________________________________________\n",
            "dropout_4 (Dropout)          (None, 2048)              0         \n",
            "_________________________________________________________________\n",
            "dense_1 (Dense)              (None, 1024)              2098176   \n",
            "_________________________________________________________________\n",
            "dropout_5 (Dropout)          (None, 1024)              0         \n",
            "_________________________________________________________________\n",
            "dense_2 (Dense)              (None, 512)               524800    \n",
            "_________________________________________________________________\n",
            "dropout_6 (Dropout)          (None, 512)               0         \n",
            "_________________________________________________________________\n",
            "dense_3 (Dense)              (None, 10)                5130      \n",
            "=================================================================\n",
            "Total params: 2,915,114\n",
            "Trainable params: 2,915,114\n",
            "Non-trainable params: 0\n",
            "_________________________________________________________________\n",
            "None\n"
          ],
          "name": "stdout"
        }
      ]
    },
    {
      "metadata": {
        "id": "SYxLMDCBdErP",
        "colab_type": "code",
        "outputId": "3260bbcc-0450-4866-ff46-a479fd610fed",
        "colab": {
          "base_uri": "https://localhost:8080/",
          "height": 901
        }
      },
      "cell_type": "code",
      "source": [
        "# Fit the model \n",
        "history = model.fit(X_train, y_train, validation_data=(X_test, y_test), epochs=epochs, batch_size=64) \n",
        "# Final evaluation of the model \n",
        "scores = model.evaluate(X_test, y_test, verbose=0) \n",
        "print(\"Accuracy: %.2f%%\" % (scores[1]*100))\n"
      ],
      "execution_count": 10,
      "outputs": [
        {
          "output_type": "stream",
          "text": [
            "Train on 50000 samples, validate on 10000 samples\n",
            "Epoch 1/25\n",
            "50000/50000 [==============================] - 38s 769us/step - loss: 0.4091 - acc: 0.8541 - val_loss: 0.6295 - val_acc: 0.7885\n",
            "Epoch 2/25\n",
            "50000/50000 [==============================] - 39s 771us/step - loss: 0.3951 - acc: 0.8582 - val_loss: 0.6202 - val_acc: 0.7901\n",
            "Epoch 3/25\n",
            "50000/50000 [==============================] - 39s 771us/step - loss: 0.3842 - acc: 0.8634 - val_loss: 0.6319 - val_acc: 0.7906\n",
            "Epoch 4/25\n",
            "50000/50000 [==============================] - 39s 778us/step - loss: 0.3761 - acc: 0.8648 - val_loss: 0.6274 - val_acc: 0.7914\n",
            "Epoch 5/25\n",
            "50000/50000 [==============================] - 37s 732us/step - loss: 0.3668 - acc: 0.8689 - val_loss: 0.6273 - val_acc: 0.7968\n",
            "Epoch 6/25\n",
            "50000/50000 [==============================] - 39s 772us/step - loss: 0.3572 - acc: 0.8725 - val_loss: 0.6239 - val_acc: 0.7935\n",
            "Epoch 7/25\n",
            "50000/50000 [==============================] - 39s 776us/step - loss: 0.3441 - acc: 0.8765 - val_loss: 0.6317 - val_acc: 0.7957\n",
            "Epoch 8/25\n",
            "50000/50000 [==============================] - 39s 775us/step - loss: 0.3359 - acc: 0.8795 - val_loss: 0.6198 - val_acc: 0.7983\n",
            "Epoch 9/25\n",
            "50000/50000 [==============================] - 38s 770us/step - loss: 0.3271 - acc: 0.8841 - val_loss: 0.6180 - val_acc: 0.7986\n",
            "Epoch 10/25\n",
            "50000/50000 [==============================] - 39s 773us/step - loss: 0.3159 - acc: 0.8858 - val_loss: 0.6228 - val_acc: 0.8002\n",
            "Epoch 11/25\n",
            "50000/50000 [==============================] - 36s 722us/step - loss: 0.3091 - acc: 0.8870 - val_loss: 0.6296 - val_acc: 0.7994\n",
            "Epoch 12/25\n",
            "50000/50000 [==============================] - 38s 769us/step - loss: 0.3071 - acc: 0.8895 - val_loss: 0.6196 - val_acc: 0.8029\n",
            "Epoch 13/25\n",
            "50000/50000 [==============================] - 39s 775us/step - loss: 0.2961 - acc: 0.8937 - val_loss: 0.6394 - val_acc: 0.7987\n",
            "Epoch 14/25\n",
            "50000/50000 [==============================] - 39s 775us/step - loss: 0.2905 - acc: 0.8957 - val_loss: 0.6206 - val_acc: 0.8023\n",
            "Epoch 15/25\n",
            "50000/50000 [==============================] - 39s 773us/step - loss: 0.2850 - acc: 0.8981 - val_loss: 0.6404 - val_acc: 0.7998\n",
            "Epoch 16/25\n",
            "50000/50000 [==============================] - 38s 769us/step - loss: 0.2757 - acc: 0.8994 - val_loss: 0.6344 - val_acc: 0.8031\n",
            "Epoch 17/25\n",
            "50000/50000 [==============================] - 36s 714us/step - loss: 0.2686 - acc: 0.9031 - val_loss: 0.6377 - val_acc: 0.8070\n",
            "Epoch 18/25\n",
            "50000/50000 [==============================] - 38s 769us/step - loss: 0.2640 - acc: 0.9058 - val_loss: 0.6391 - val_acc: 0.8051\n",
            "Epoch 19/25\n",
            "50000/50000 [==============================] - 38s 764us/step - loss: 0.2590 - acc: 0.9073 - val_loss: 0.6406 - val_acc: 0.8058\n",
            "Epoch 20/25\n",
            "50000/50000 [==============================] - 39s 776us/step - loss: 0.2527 - acc: 0.9081 - val_loss: 0.6412 - val_acc: 0.8047\n",
            "Epoch 21/25\n",
            "50000/50000 [==============================] - 38s 769us/step - loss: 0.2514 - acc: 0.9099 - val_loss: 0.6367 - val_acc: 0.8067\n",
            "Epoch 22/25\n",
            "50000/50000 [==============================] - 38s 767us/step - loss: 0.2387 - acc: 0.9140 - val_loss: 0.6513 - val_acc: 0.8045\n",
            "Epoch 23/25\n",
            "50000/50000 [==============================] - 36s 720us/step - loss: 0.2394 - acc: 0.9146 - val_loss: 0.6420 - val_acc: 0.8072\n",
            "Epoch 24/25\n",
            "50000/50000 [==============================] - 39s 772us/step - loss: 0.2336 - acc: 0.9154 - val_loss: 0.6497 - val_acc: 0.8060\n",
            "Epoch 25/25\n",
            "50000/50000 [==============================] - 38s 761us/step - loss: 0.2271 - acc: 0.9184 - val_loss: 0.6555 - val_acc: 0.8068\n",
            "Accuracy: 80.68%\n"
          ],
          "name": "stdout"
        }
      ]
    },
    {
      "metadata": {
        "id": "w4DXaxX2dJGj",
        "colab_type": "code",
        "colab": {
          "base_uri": "https://localhost:8080/",
          "height": 735
        },
        "outputId": "456a7d6a-f384-43b1-9b67-cc3edd2ee3f5"
      },
      "cell_type": "code",
      "source": [
        "plt.plot(history.history['acc'])\n",
        "plt.plot(history.history['val_acc'])\n",
        "plt.title('model accuracy')\n",
        "plt.ylabel('accuracy')\n",
        "plt.xlabel('epoch')\n",
        "plt.legend(['train', 'test'], loc='upper left')\n",
        "plt.show()\n",
        "# summarize history for loss\n",
        "plt.plot(history.history['loss'])\n",
        "plt.plot(history.history['val_loss'])\n",
        "plt.title('model loss')\n",
        "plt.ylabel('loss')\n",
        "plt.xlabel('epoch')\n",
        "plt.legend(['train', 'test'], loc='upper left')\n",
        "plt.show()"
      ],
      "execution_count": 14,
      "outputs": [
        {
          "output_type": "display_data",
          "data": {
            "image/png": "[encoded data removed]",
            "text/plain": [
              "<Figure size 576x396 with 1 Axes>"
            ]
          },
          "metadata": {
            "tags": []
          }
        },
        {
          "output_type": "display_data",
          "data": {
            "image/png": "[encoded data removed]",
            "text/plain": [
              "<Figure size 576x396 with 1 Axes>"
            ]
          },
          "metadata": {
            "tags": []
          }
        }
      ]
    },
    {
      "metadata": {
        "id": "LGWx_ot3Q3Yj",
        "colab_type": "code",
        "colab": {}
      },
      "cell_type": "code",
      "source": [
        ""
      ],
      "execution_count": 0,
      "outputs": []
    }
  ]
}